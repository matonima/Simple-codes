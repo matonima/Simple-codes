{
  "nbformat": 4,
  "nbformat_minor": 0,
  "metadata": {
    "colab": {
      "name": "Untitled2",
      "provenance": [],
      "authorship_tag": "ABX9TyNOfGSgVXfJ73tnRUH+bMdN",
      "include_colab_link": true
    },
    "kernelspec": {
      "name": "python3",
      "display_name": "Python 3"
    },
    "language_info": {
      "name": "python"
    }
  },
  "cells": [
    {
      "cell_type": "markdown",
      "metadata": {
        "id": "view-in-github",
        "colab_type": "text"
      },
      "source": [
        "<a href=\"https://colab.research.google.com/github/matonima/Simple-codes/blob/main/Dynamic%20Programming%3A%20Find%20maximum%20single%20sell%20profit.ipynb\" target=\"_parent\"><img src=\"https://colab.research.google.com/assets/colab-badge.svg\" alt=\"Open In Colab\"/></a>"
      ]
    },
    {
      "cell_type": "code",
      "source": [
        "def find_buy_sell_stock_prices(array):\n",
        "  n=len(array)\n",
        "  if len(array)!=0:\n",
        "    buy_price=min(array)\n",
        "    tempmax=max(array)\n",
        "    profit=0\n",
        "    if array.index(tempmax)>=array.index(buy_price):\n",
        "      sell_price=tempmax\n",
        "      temp_prof=sell_price-buy_price\n",
        "      if temp_prof>profit:\n",
        "          profit=temp_prof\n",
        "      else:\n",
        "           profit=profit\n",
        "      #print(temp_prof,profit,buy_price,sell_price)\n",
        "      y=(buy_price,sell_price)\n",
        "      \n",
        "    \n",
        "    elif array.index(tempmax)<=array.index(buy_price):\n",
        "    #else: \n",
        "        new_start_index=array.index(tempmax) + 1\n",
        "        for i in range(new_start_index,len(array)):\n",
        "            new_array=array[i:n]\n",
        "            y=find_buy_sell_stock_prices(new_array)\n",
        "\n",
        "    return y\n",
        "            \n",
        "print(find_buy_sell_stock_prices([2,3,4,6,11,3,5]))\n"
      ],
      "metadata": {
        "colab": {
          "base_uri": "https://localhost:8080/"
        },
        "id": "ee2262a9cO_9",
        "outputId": "3e400bcb-2633-415f-94ad-460221b84226"
      },
      "execution_count": 35,
      "outputs": [
        {
          "output_type": "stream",
          "name": "stdout",
          "text": [
            "(2, 11)\n"
          ]
        }
      ]
    }
  ]
}