{
  "nbformat": 4,
  "nbformat_minor": 0,
  "metadata": {
    "colab": {
      "name": "Untitled2",
      "provenance": [],
      "authorship_tag": "ABX9TyMECw17iA/38IoSTJcLobug",
      "include_colab_link": true
    },
    "kernelspec": {
      "name": "python3",
      "display_name": "Python 3"
    },
    "language_info": {
      "name": "python"
    }
  },
  "cells": [
    {
      "cell_type": "markdown",
      "metadata": {
        "id": "view-in-github",
        "colab_type": "text"
      },
      "source": [
        "<a href=\"https://colab.research.google.com/github/matonima/Simple-codes/blob/main/power.ipynb\" target=\"_parent\"><img src=\"https://colab.research.google.com/assets/colab-badge.svg\" alt=\"Open In Colab\"/></a>"
      ]
    },
    {
      "cell_type": "code",
      "source": [
        "import numpy as np\n",
        "def power(x, n):\n",
        "    if n==0:\n",
        "        y=1\n",
        "    elif n<0:\n",
        "        n=n*(-1)\n",
        "        z=[x]*n\n",
        "        print(z)\n",
        "        y=np.prod(z)\n",
        "        y=1/y\n",
        "    else:\n",
        "        z=[x]*n\n",
        "        print(z)\n",
        "        y=np.prod(z)\n",
        "    return y \n",
        "power(2,-5)"
      ],
      "metadata": {
        "colab": {
          "base_uri": "https://localhost:8080/"
        },
        "id": "ee2262a9cO_9",
        "outputId": "c2103477-66a2-44f1-e9ce-15dc61d49af1"
      },
      "execution_count": 37,
      "outputs": [
        {
          "output_type": "stream",
          "name": "stdout",
          "text": [
            "[2, 2, 2, 2, 2]\n"
          ]
        },
        {
          "output_type": "execute_result",
          "data": {
            "text/plain": [
              "0.03125"
            ]
          },
          "metadata": {},
          "execution_count": 37
        }
      ]
    }
  ]
}